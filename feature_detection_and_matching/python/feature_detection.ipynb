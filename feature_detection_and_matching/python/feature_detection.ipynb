{
  "nbformat": 4,
  "nbformat_minor": 0,
  "metadata": {
    "colab": {
      "provenance": []
    },
    "kernelspec": {
      "name": "python3",
      "display_name": "Python 3"
    },
    "language_info": {
      "name": "python"
    }
  },
  "cells": [
    {
      "cell_type": "markdown",
      "source": [
        "Download the images from the google drive for feature detection."
      ],
      "metadata": {
        "id": "0yieq-NyJSYE"
      }
    },
    {
      "cell_type": "code",
      "execution_count": null,
      "metadata": {
        "id": "fKWdXMZY30aZ"
      },
      "outputs": [],
      "source": [
        "!pip install -q gdown"
      ]
    },
    {
      "cell_type": "code",
      "source": [
        "!gdown --id 1BEK4DnnkEOl8dKl8lwSjbeVQCFSJgfdg -O checkerboard_img.png"
      ],
      "metadata": {
        "id": "fjCCKMuPMHQz"
      },
      "execution_count": null,
      "outputs": []
    },
    {
      "cell_type": "markdown",
      "source": [
        "Let's start with detecting corners on images. To verify that the corner detector works perfectly, we start with a checkerboard pattern and make sure that corners are detected on the four corners of each grid on the checkerboard."
      ],
      "metadata": {
        "id": "mXas4dTm8Hqg"
      }
    },
    {
      "cell_type": "code",
      "source": [
        "import numpy as np\n",
        "import matplotlib.pyplot as plt\n",
        "import imageio.v2 as imageio\n",
        "import cv2\n",
        "\n",
        "checkerboard_img = imageio.imread(\"/content/checkerboard_img.png\")\n",
        "print(checkerboard_img.shape)\n",
        "\n",
        "plt.figure(1)\n",
        "plt.imshow(checkerboard_img, cmap='gray')\n",
        "plt.title(\"Checkerboard Image\")\n",
        "plt.axis(\"off\")"
      ],
      "metadata": {
        "id": "iLfHhkJCMR1v"
      },
      "execution_count": null,
      "outputs": []
    },
    {
      "cell_type": "markdown",
      "source": [
        "Notice that inside the `get_corners` function below, we adopt a derivative of Gaussian to find the derivatives of the image in x and y directions, since a corner is a point on the image where the gradient is significant in all directions. A Gaussian convolution operation is applied subsequently to remove noise (as we have done in the image noise removal practice). The corner detector should find corners at the intersections of the grids of our checkerboard pattern."
      ],
      "metadata": {
        "id": "PGuT2z728VaC"
      }
    },
    {
      "cell_type": "code",
      "source": [
        "def gaussian_derivative_kernels(ksize=5, sigma=1.0):\n",
        "    ax = np.arange(-(ksize // 2), ksize // 2 + 1)\n",
        "    xx, yy = np.meshgrid(ax, ax)\n",
        "    g = np.exp(-(xx**2 + yy**2) / (2 * sigma**2))\n",
        "    gx = -xx / (sigma**2) * g\n",
        "    gy = -yy / (sigma**2) * g\n",
        "    gx /= np.sum(np.abs(gx))\n",
        "    gy /= np.sum(np.abs(gy))\n",
        "    return gx, gy\n",
        "\n",
        "def get_corners(img, sobel_size=5, gauss_ksize=5, gauss_sigma=1):\n",
        "\n",
        "  gx, gy = gaussian_derivative_kernels(ksize=gauss_ksize, sigma=gauss_sigma)\n",
        "\n",
        "  # Compute image gradients in both x and y directions\n",
        "  Ix = cv2.filter2D(img.astype(np.float32), -1, gx)\n",
        "  Iy = cv2.filter2D(img.astype(np.float32), -1, gy)\n",
        "\n",
        "  # Compute products of derivatives\n",
        "  Ixx = Ix * Ix\n",
        "  Iyy = Iy * Iy\n",
        "  Ixy = Ix * Iy\n",
        "\n",
        "  # Apply Gaussian filter to smooth the products\n",
        "  Ixx = cv2.GaussianBlur(Ixx, (gauss_ksize, gauss_ksize), gauss_sigma)\n",
        "  Iyy = cv2.GaussianBlur(Iyy, (gauss_ksize, gauss_ksize), gauss_sigma)\n",
        "  Ixy = cv2.GaussianBlur(Ixy, (gauss_ksize, gauss_ksize), gauss_sigma)\n",
        "\n",
        "  # calculate the Harris response\n",
        "  k = 0.04\n",
        "  detM = Ixx * Iyy - Ixy * Ixy\n",
        "  traceM = Ixx + Iyy\n",
        "  R = detM - k * (traceM ** 2)\n",
        "\n",
        "  # Normalize response\n",
        "  R_norm = cv2.normalize(R, None, 0, 255, cv2.NORM_MINMAX)\n",
        "\n",
        "  # Non-Maximum Suppression (NMS)\n",
        "  thresh = 0.01 * R.max()\n",
        "\n",
        "  # Binary map of candidate corners\n",
        "  candidate_mask = (R > thresh)\n",
        "\n",
        "  # Keep only local maxima\n",
        "  kernel = np.ones((3, 3), np.uint8)\n",
        "  local_max = (R == cv2.dilate(R, kernel))\n",
        "  b_corner_points = np.logical_and(candidate_mask, local_max)\n",
        "  ys, xs = np.where(b_corner_points)\n",
        "  return ys, xs\n",
        "\n",
        "\n",
        "checkerboard_img = np.float32(checkerboard_img)\n",
        "corners_y, corners_x = get_corners(checkerboard_img)\n",
        "\n",
        "# Display results\n",
        "plt.figure(figsize=(6, 6))\n",
        "plt.imshow(np.uint8(checkerboard_img), cmap='gray')\n",
        "plt.scatter(corners_x, corners_y, s=10, c='red', marker='.', label='Corners')\n",
        "plt.title(\"Corners on the Checkerboard Image\")\n",
        "plt.axis(\"off\")\n",
        "plt.legend()\n",
        "plt.show()\n",
        "\n"
      ],
      "metadata": {
        "id": "Nvk0Vxtzhot2"
      },
      "execution_count": null,
      "outputs": []
    },
    {
      "cell_type": "markdown",
      "source": [
        "Now that the corner detector works perfectly, let's move on to extract corners on a real image captured by a Arducam camera."
      ],
      "metadata": {
        "id": "xLhU5z519HQK"
      }
    },
    {
      "cell_type": "code",
      "source": [
        "!gdown --id 132QiEWBa8SqbQC4Y1AAAYwEFUho7zX0E -O chiangheng.png"
      ],
      "metadata": {
        "id": "8pArIYmGojwC"
      },
      "execution_count": null,
      "outputs": []
    },
    {
      "cell_type": "code",
      "source": [
        "funny_chiangheng_img = imageio.imread(\"/content/chiangheng.png\")\n",
        "\n",
        "plt.figure(2)\n",
        "plt.imshow(funny_chiangheng_img, cmap='gray')\n",
        "plt.title(\"Funny Chiang-Heng\")\n",
        "plt.axis(\"off\")"
      ],
      "metadata": {
        "id": "cCDP8Ng9rIwx"
      },
      "execution_count": null,
      "outputs": []
    },
    {
      "cell_type": "code",
      "source": [
        "gray_img = cv2.cvtColor(funny_chiangheng_img, cv2.COLOR_BGR2GRAY)\n",
        "\n",
        "corners_y, corners_x = get_corners(np.float32(gray_img), 3, 17, 5)\n",
        "print(f'Number of corners = {len(corners_y)}')\n",
        "\n",
        "# Display results\n",
        "plt.figure(figsize=(6, 6))\n",
        "plt.imshow(np.uint8(gray_img), cmap='gray')\n",
        "plt.scatter(corners_x, corners_y, s=20, c='red', marker='.', label='Corners')\n",
        "plt.title(\"Corners on Chiang-Heng\")\n",
        "plt.axis(\"off\")\n",
        "plt.legend()\n",
        "plt.show()"
      ],
      "metadata": {
        "id": "CgA6U_xErTM8"
      },
      "execution_count": null,
      "outputs": []
    },
    {
      "cell_type": "markdown",
      "source": [
        "As opposed to corners, SIFT is a robust feature detection method. A SIFT feature, or a \"keypoint\", is typically anchored with SIFT descriptors represented by a 128 dimensional vector."
      ],
      "metadata": {
        "id": "QwqAmDVP9SLU"
      }
    },
    {
      "cell_type": "code",
      "source": [
        "# Create SIFT constructor\n",
        "sift = cv2.SIFT_create()\n",
        "\n",
        "# Detect SIFT keypoints and descriptors\n",
        "keypoints, descriptors = sift.detectAndCompute(funny_chiangheng_img, None)\n",
        "\n",
        "print(f\"Number of detected SIFT keypoints = {len(keypoints)}\")\n",
        "print(f\"Descriptor shape of SIFT features = {descriptors.shape}\")\n",
        "\n",
        "for kp in keypoints[:10]:  # show first 10\n",
        "    print(f\"Point: {kp.pt}, Size: {kp.size}, Angle: {kp.angle}\")\n",
        "\n",
        "# Superimpose keypoints on the image\n",
        "img_kp = cv2.drawKeypoints(\n",
        "    funny_chiangheng_img, keypoints, None, flags=cv2.DRAW_MATCHES_FLAGS_DRAW_RICH_KEYPOINTS\n",
        ")\n",
        "\n",
        "plt.figure(figsize=(8, 8))\n",
        "plt.imshow(cv2.cvtColor(img_kp, cv2.COLOR_BGR2RGB))\n",
        "plt.title(\"SIFT Keypoints on Funny Chiang-Heng\")\n",
        "plt.axis(\"off\")\n",
        "plt.show()"
      ],
      "metadata": {
        "id": "bk8T5izHuuVS"
      },
      "execution_count": null,
      "outputs": []
    }
  ]
}